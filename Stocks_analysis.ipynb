{
 "cells": [
  {
   "cell_type": "code",
   "execution_count": null,
   "metadata": {},
   "outputs": [
    {
     "name": "stdout",
     "output_type": "stream",
     "text": [
      "(2537, 5)\n"
     ]
    }
   ],
   "source": [
    "import mstarpy\n",
    "import pandas as pd\n",
    "\n",
    "response = mstarpy.search_stock(term=\" \",field=[\"Name\", \"debtEquityRatio\", \"SectorName\",'MarketCap','fundShareClassId'], exchange='XNSE',pageSize=50000)\n",
    "\n",
    "df = pd.DataFrame(response)\n",
    "print(df.shape)"
   ]
  },
  {
   "cell_type": "code",
   "execution_count": null,
   "metadata": {},
   "outputs": [
    {
     "name": "stdout",
     "output_type": "stream",
     "text": [
      "possible keys for the parameter filters of the method search_stock can be : debtEquityRatio, DividendYield, epsGrowth3YYear1, EquityStyleBox, GBRReturnM0, GBRReturnM12, GBRReturnM36, GBRReturnM60, GBRReturnM120, IndustryId, MarketCap, netMargin, PBRatio, PEGRatio, PERatio, PSRatio, revenueGrowth3Y, roattm, roettm, SectorId\n",
      "['debtEquityRatio', 'DividendYield', 'epsGrowth3YYear1', 'EquityStyleBox', 'GBRReturnM0', 'GBRReturnM12', 'GBRReturnM36', 'GBRReturnM60', 'GBRReturnM120', 'IndustryId', 'MarketCap', 'netMargin', 'PBRatio', 'PEGRatio', 'PERatio', 'PSRatio', 'revenueGrowth3Y', 'roattm', 'roettm', 'SectorId']\n"
     ]
    }
   ],
   "source": [
    "from mstarpy import search_filter\n",
    "\n",
    "filter_fund = search_filter(pattern = '', asset_type ='stock')\n",
    "\n",
    "print(filter_fund)\n"
   ]
  },
  {
   "cell_type": "code",
   "execution_count": null,
   "metadata": {},
   "outputs": [
    {
     "data": {
      "text/plain": [
       "['Basic Materials',\n",
       " 'Communication Services',\n",
       " 'Consumer Cyclical',\n",
       " 'Consumer Defensive',\n",
       " 'Energy',\n",
       " 'Financial Services',\n",
       " 'Healthcare',\n",
       " 'Industrials',\n",
       " 'Real Estate',\n",
       " 'Technology',\n",
       " 'Utilities']"
      ]
     },
     "metadata": {},
     "output_type": "display_data"
    }
   ],
   "source": [
    "list(df.groupby('SectorName').groups.keys())"
   ]
  },
  {
   "cell_type": "code",
   "execution_count": null,
   "metadata": {},
   "outputs": [
    {
     "data": {
      "text/html": [
       "<div>\n",
       "<style scoped>\n",
       "    .dataframe tbody tr th:only-of-type {\n",
       "        vertical-align: middle;\n",
       "    }\n",
       "\n",
       "    .dataframe tbody tr th {\n",
       "        vertical-align: top;\n",
       "    }\n",
       "\n",
       "    .dataframe thead th {\n",
       "        text-align: right;\n",
       "    }\n",
       "</style>\n",
       "<table border=\"1\" class=\"dataframe\">\n",
       "  <thead>\n",
       "    <tr style=\"text-align: right;\">\n",
       "      <th></th>\n",
       "      <th>Name</th>\n",
       "      <th>debtEquityRatio</th>\n",
       "      <th>SectorName</th>\n",
       "      <th>MarketCap</th>\n",
       "      <th>fundShareClassId</th>\n",
       "    </tr>\n",
       "  </thead>\n",
       "  <tbody>\n",
       "    <tr>\n",
       "      <th>388</th>\n",
       "      <td>BSE Ltd</td>\n",
       "      <td>0.000006</td>\n",
       "      <td>Financial Services</td>\n",
       "      <td>3.899353e+09</td>\n",
       "      <td>0P00019P2F</td>\n",
       "    </tr>\n",
       "    <tr>\n",
       "      <th>2226</th>\n",
       "      <td>Tata Investment Corp Ltd</td>\n",
       "      <td>0.000014</td>\n",
       "      <td>Financial Services</td>\n",
       "      <td>3.394149e+09</td>\n",
       "      <td>0P0000BBD4</td>\n",
       "    </tr>\n",
       "    <tr>\n",
       "      <th>594</th>\n",
       "      <td>Dolat Algotech Ltd</td>\n",
       "      <td>0.000038</td>\n",
       "      <td>Financial Services</td>\n",
       "      <td>2.821292e+08</td>\n",
       "      <td>0P0001IAUU</td>\n",
       "    </tr>\n",
       "    <tr>\n",
       "      <th>2465</th>\n",
       "      <td>VLS Finance Ltd</td>\n",
       "      <td>0.000060</td>\n",
       "      <td>Financial Services</td>\n",
       "      <td>1.369491e+08</td>\n",
       "      <td>0P0000AQ35</td>\n",
       "    </tr>\n",
       "    <tr>\n",
       "      <th>426</th>\n",
       "      <td>Central Depository Services (India) Ltd</td>\n",
       "      <td>0.000563</td>\n",
       "      <td>Financial Services</td>\n",
       "      <td>3.207164e+09</td>\n",
       "      <td>0P0001B2RR</td>\n",
       "    </tr>\n",
       "    <tr>\n",
       "      <th>...</th>\n",
       "      <td>...</td>\n",
       "      <td>...</td>\n",
       "      <td>...</td>\n",
       "      <td>...</td>\n",
       "      <td>...</td>\n",
       "    </tr>\n",
       "    <tr>\n",
       "      <th>1280</th>\n",
       "      <td>LIC Housing Finance Ltd</td>\n",
       "      <td>7.726278</td>\n",
       "      <td>Financial Services</td>\n",
       "      <td>3.998820e+09</td>\n",
       "      <td>0P0000C9DI</td>\n",
       "    </tr>\n",
       "    <tr>\n",
       "      <th>450</th>\n",
       "      <td>Cholamandalam Financial Holdings Ltd</td>\n",
       "      <td>8.447710</td>\n",
       "      <td>Financial Services</td>\n",
       "      <td>3.322053e+09</td>\n",
       "      <td>0P0000B3TO</td>\n",
       "    </tr>\n",
       "    <tr>\n",
       "      <th>1692</th>\n",
       "      <td>Power Finance Corp Ltd</td>\n",
       "      <td>8.813951</td>\n",
       "      <td>Financial Services</td>\n",
       "      <td>1.821846e+10</td>\n",
       "      <td>0P0000AFFF</td>\n",
       "    </tr>\n",
       "    <tr>\n",
       "      <th>1676</th>\n",
       "      <td>PNB Gilts Ltd</td>\n",
       "      <td>16.847510</td>\n",
       "      <td>Financial Services</td>\n",
       "      <td>2.393080e+08</td>\n",
       "      <td>0P0000B07I</td>\n",
       "    </tr>\n",
       "    <tr>\n",
       "      <th>1481</th>\n",
       "      <td>Nagreeka Capital &amp; Infrastructure Ltd</td>\n",
       "      <td>32.568856</td>\n",
       "      <td>Financial Services</td>\n",
       "      <td>4.028272e+06</td>\n",
       "      <td>0P0000BQ76</td>\n",
       "    </tr>\n",
       "  </tbody>\n",
       "</table>\n",
       "<p>175 rows × 5 columns</p>\n",
       "</div>"
      ],
      "text/plain": [
       "                                         Name  debtEquityRatio  \\\n",
       "388                                   BSE Ltd         0.000006   \n",
       "2226                 Tata Investment Corp Ltd         0.000014   \n",
       "594                        Dolat Algotech Ltd         0.000038   \n",
       "2465                          VLS Finance Ltd         0.000060   \n",
       "426   Central Depository Services (India) Ltd         0.000563   \n",
       "...                                       ...              ...   \n",
       "1280                  LIC Housing Finance Ltd         7.726278   \n",
       "450      Cholamandalam Financial Holdings Ltd         8.447710   \n",
       "1692                   Power Finance Corp Ltd         8.813951   \n",
       "1676                            PNB Gilts Ltd        16.847510   \n",
       "1481    Nagreeka Capital & Infrastructure Ltd        32.568856   \n",
       "\n",
       "              SectorName     MarketCap fundShareClassId  \n",
       "388   Financial Services  3.899353e+09       0P00019P2F  \n",
       "2226  Financial Services  3.394149e+09       0P0000BBD4  \n",
       "594   Financial Services  2.821292e+08       0P0001IAUU  \n",
       "2465  Financial Services  1.369491e+08       0P0000AQ35  \n",
       "426   Financial Services  3.207164e+09       0P0001B2RR  \n",
       "...                  ...           ...              ...  \n",
       "1280  Financial Services  3.998820e+09       0P0000C9DI  \n",
       "450   Financial Services  3.322053e+09       0P0000B3TO  \n",
       "1692  Financial Services  1.821846e+10       0P0000AFFF  \n",
       "1676  Financial Services  2.393080e+08       0P0000B07I  \n",
       "1481  Financial Services  4.028272e+06       0P0000BQ76  \n",
       "\n",
       "[175 rows x 5 columns]"
      ]
     },
     "metadata": {},
     "output_type": "display_data"
    }
   ],
   "source": [
    "# group by SectorName and print the best 5 companies by Marketcap\n",
    "\n",
    "df.groupby('SectorName').get_group('Financial Services').dropna().sort_values('debtEquityRatio', ascending=True)"
   ]
  }
 ],
 "metadata": {
  "kernelspec": {
   "display_name": "DS",
   "language": "python",
   "name": "python3"
  },
  "language_info": {
   "name": "python",
   "version": "3.11.3"
  }
 },
 "nbformat": 4,
 "nbformat_minor": 2
}
